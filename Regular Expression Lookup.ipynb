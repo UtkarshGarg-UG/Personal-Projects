{
 "cells": [
  {
   "cell_type": "code",
   "execution_count": 1,
   "metadata": {},
   "outputs": [],
   "source": [
    "import re"
   ]
  },
  {
   "cell_type": "markdown",
   "metadata": {},
   "source": [
    "### Lookup\n",
    "* .       - Any Character Except New Line\n",
    "* \\d      - Digit (0-9)\n",
    "* \\D      - Not a Digit (0-9)\n",
    "* \\w      - Word Character (a-z, A-Z, 0-9, _)\n",
    "* \\W      - Not a Word Character\n",
    "* \\s      - Whitespace (space, tab, newline)\n",
    "* \\S      - Not Whitespace (space, tab, newline)\n",
    "\n",
    "* \\b      - Word Boundary - eg. \\bHa will search all 'Ha' with space on left side\n",
    "* \\B      - Not a Word Boundary - eg. \\BHa will search all 'Ha' with no space on left side\n",
    "* ^       - Beginning of a String\n",
    "* $       - End of a String\n",
    "\n",
    "* []      - Matches Characters in brackets\n",
    "* [^ ]    - Matches Characters NOT in brackets\n",
    "* |       - Either Or\n",
    "* ( )     - Group\n",
    "\n",
    "Quantifiers:\n",
    "* \\*       - 0 or More\n",
    "* \\+       - 1 or More\n",
    "* ?       - 0 or One\n",
    "* {3}     - Exact Number\n",
    "* {3,4}   - Range of Numbers (Minimum, Maximum)\n",
    "\n",
    "\n",
    "#### Sample Regexs ####\n",
    "\n",
    "[a-zA-Z0-9_.+-]+@[a-zA-Z0-9-]+\\.[a-zA-Z0-9-.]+"
   ]
  },
  {
   "cell_type": "markdown",
   "metadata": {},
   "source": [
    "\\1\n",
    "* The first \\1 means the first group - i.e. the first bracketed expression (\\b[a-z]+)\n",
    "* From the docs \\number - \n",
    "    \"Matches the contents of the group of the same number. Groups are numbered starting from 1. For example, (.+) \\1 matches 'the the' or '55 55', but not 'thethe' (note the space after the group)\"\n",
    "\n",
    "* The second \\1 is the replacement to use in case of a match, so a repeated word will be replaced by a single word."
   ]
  },
  {
   "cell_type": "code",
   "execution_count": 77,
   "metadata": {},
   "outputs": [],
   "source": [
    "# Text for tutorial\n",
    "\n",
    "text_to_search = '''\n",
    "abcdefghijklmnopqurtuvwxyz\n",
    "ABCDEFGHIJKLMNOPQRSTUVWXYZ\n",
    "1234567890\n",
    "Ha HaHa\n",
    "MetaCharacters (Need to be escaped):\n",
    ". ^ $ * + ? { } [ ] \\ | ( )\n",
    "coreyms.com\n",
    "321-555-4321\n",
    "123.555.1234\n",
    "123*555*1234\n",
    "800-555-1234\n",
    "900-555-1234\n",
    "321--555-4321\n",
    "Mr. Schafer\n",
    "Mr Smith\n",
    "Ms Davis\n",
    "Mrs. Robinson\n",
    "Mr. T\n",
    "'''\n",
    "\n",
    "sentence = 'Start a sentence and then bring it to an end. What the hell'"
   ]
  },
  {
   "cell_type": "code",
   "execution_count": 78,
   "metadata": {},
   "outputs": [
    {
     "name": "stdout",
     "output_type": "stream",
     "text": [
      "\tab abc\n",
      "\\tab abc\n"
     ]
    }
   ],
   "source": [
    "# raw string : r'\\tab abc' vs '\\tab abc'\n",
    "\n",
    "print('\\tab abc') #takes \\tab literally\n",
    "print(r'\\tab abc') # takes it as a raw string"
   ]
  },
  {
   "cell_type": "code",
   "execution_count": 79,
   "metadata": {},
   "outputs": [
    {
     "name": "stdout",
     "output_type": "stream",
     "text": [
      "(1, 4)\n"
     ]
    }
   ],
   "source": [
    "# re.compile and finditer methods\n",
    "pattern = re.compile(r'abc')\n",
    "matches = pattern.finditer(text_to_search)\n",
    "for match in matches:\n",
    "    print match.span()"
   ]
  },
  {
   "cell_type": "code",
   "execution_count": 80,
   "metadata": {},
   "outputs": [
    {
     "name": "stdout",
     "output_type": "stream",
     "text": [
      "(139, 150)\n"
     ]
    }
   ],
   "source": [
    "# . ^ $ * + ? { } [ ] \\ | ( ) need to be escaped if to be used in a string literally. Eg. find : coreyms.com\n",
    "pattern = re.compile(r'coreyms\\.com')\n",
    "matches = pattern.finditer(text_to_search)\n",
    "for match in matches:\n",
    "    print match.span()"
   ]
  },
  {
   "cell_type": "code",
   "execution_count": 81,
   "metadata": {},
   "outputs": [
    {
     "name": "stdout",
     "output_type": "stream",
     "text": [
      "1st Eg: (0, 5)\n"
     ]
    }
   ],
   "source": [
    "# Using '^' and '$'\n",
    "# ^ matches only the start of the string. It will give null for others\n",
    "pattern = re.compile(r'^Start')\n",
    "matches = pattern.finditer(sentence)\n",
    "for match in matches:\n",
    "    print '1st Eg:',match.span()\n",
    "    \n",
    "pattern = re.compile(r'^What')\n",
    "matches = pattern.finditer(sentence)\n",
    "for match in matches:\n",
    "    print '2nd Eg:',match.span()\n",
    "    \n",
    "# Same for $. Last of string"
   ]
  },
  {
   "cell_type": "code",
   "execution_count": 82,
   "metadata": {},
   "outputs": [
    {
     "data": {
      "text/plain": [
       "['321-555-4321', '123.555.1234', '800-555-1234', '900-555-1234']"
      ]
     },
     "execution_count": 82,
     "metadata": {},
     "output_type": "execute_result"
    }
   ],
   "source": [
    "# Excercise : find numbers with . or -\n",
    "pattern = re.compile('\\d\\d\\d[.-]\\d\\d\\d[.-]\\d\\d\\d\\d')\n",
    "re.findall(pattern,text_to_search)\n",
    "\n",
    "# it doesn't find 321--555-4321 because [.-] characters are used once only"
   ]
  },
  {
   "cell_type": "markdown",
   "metadata": {},
   "source": [
    "#### [] may also contain range to match eg : [1-5] or [a-zA-Z]"
   ]
  },
  {
   "cell_type": "code",
   "execution_count": 83,
   "metadata": {},
   "outputs": [
    {
     "data": {
      "text/plain": [
       "['(',\n",
       " ')',\n",
       " ':',\n",
       " '.',\n",
       " '^',\n",
       " '$',\n",
       " '*',\n",
       " '+',\n",
       " '?',\n",
       " '{',\n",
       " '}',\n",
       " '[',\n",
       " ']',\n",
       " '\\\\',\n",
       " '|',\n",
       " '(',\n",
       " ')',\n",
       " '.',\n",
       " '-',\n",
       " '-',\n",
       " '.',\n",
       " '.',\n",
       " '*',\n",
       " '*',\n",
       " '-',\n",
       " '-',\n",
       " '-',\n",
       " '-',\n",
       " '-',\n",
       " '-',\n",
       " '-',\n",
       " '.',\n",
       " '.',\n",
       " '.']"
      ]
     },
     "execution_count": 83,
     "metadata": {},
     "output_type": "execute_result"
    }
   ],
   "source": [
    "# negation in character set\n",
    "# when ^ is used inside character set, the characters are neglected:\n",
    "re.findall('[^a-zA-Z0-9\\n\\s]',text_to_search)"
   ]
  },
  {
   "cell_type": "code",
   "execution_count": 84,
   "metadata": {},
   "outputs": [
    {
     "name": "stdout",
     "output_type": "stream",
     "text": [
      "digits with 3 or 4 chars\n",
      "['1234', '5678', '321', '555', '4321', '123', '555', '1234', '123', '555', '1234', '800', '555', '1234', '900', '555', '1234', '321', '555', '4321']\n",
      "\n",
      "Telephone numbers\n",
      "['321-555-4321', '123.555.1234', '800-555-1234', '900-555-1234']\n"
     ]
    }
   ],
   "source": [
    "#Quantifiers *,+,?, {3}, {3,4}\n",
    "print 'digits with 3 or 4 chars'\n",
    "print re.findall('\\d{3,4}',text_to_search) #digits with 3 or 4 chars\n",
    "\n",
    "print '\\nTelephone numbers'\n",
    "print re.findall('\\d{3}[.-]\\d{3}[.-]\\d{4}',text_to_search)"
   ]
  },
  {
   "cell_type": "code",
   "execution_count": 85,
   "metadata": {},
   "outputs": [
    {
     "data": {
      "text/plain": [
       "['Mr. Schafer', 'Mr Smith', 'Ms Davis', 'Mr. T']"
      ]
     },
     "execution_count": 85,
     "metadata": {},
     "output_type": "execute_result"
    }
   ],
   "source": [
    "# Find names with designations\n",
    "re.findall('M[rs]\\.?\\s+\\w+',text_to_search)"
   ]
  },
  {
   "cell_type": "code",
   "execution_count": null,
   "metadata": {},
   "outputs": [],
   "source": []
  },
  {
   "cell_type": "code",
   "execution_count": null,
   "metadata": {},
   "outputs": [],
   "source": []
  }
 ],
 "metadata": {
  "kernelspec": {
   "display_name": "Python 3",
   "language": "python",
   "name": "python3"
  },
  "language_info": {
   "codemirror_mode": {
    "name": "ipython",
    "version": 2
   },
   "file_extension": ".py",
   "mimetype": "text/x-python",
   "name": "python",
   "nbconvert_exporter": "python",
   "pygments_lexer": "ipython2",
   "version": "2.7.12"
  }
 },
 "nbformat": 4,
 "nbformat_minor": 2
}
